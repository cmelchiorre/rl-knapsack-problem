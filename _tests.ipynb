{
 "cells": [
  {
   "cell_type": "code",
   "execution_count": 9,
   "metadata": {},
   "outputs": [
    {
     "name": "stdout",
     "output_type": "stream",
     "text": [
      "args settings: \n",
      "model_path: ./models/ppo\n",
      "model_prefix: ppo_model\n",
      "n_saved_iterations: 0\n",
      "num_episodes: 1000\n",
      "steps_per_episode: 2048\n",
      "eval_freq: 2048\n",
      "debug: True\n"
     ]
    }
   ],
   "source": [
    "import yaml\n",
    "\n",
    "config = yaml.safe_load(open('train.cfg', 'r'))\n",
    "\n",
    "model_path = config[\"model_path\"]\n",
    "model_prefix = config[\"model_prefix\"]\n",
    "debug = config[\"debug\"]\n",
    "num_episodes = config[\"num_episodes\"]\n",
    "steps_per_episode = config[\"steps_per_episode\"]\n",
    "n_saved_iterations = config[\"n_saved_iterations\"]\n",
    "eval_freq = config[\"eval_freq\"]\n",
    "\n",
    "if debug: \n",
    "    print(\"args settings: \")\n",
    "    for key, value in config.items():\n",
    "        print(key + ': ' + str(value))\n"
   ]
  },
  {
   "cell_type": "code",
   "execution_count": null,
   "metadata": {},
   "outputs": [],
   "source": []
  }
 ],
 "metadata": {
  "kernelspec": {
   "display_name": "deeprl",
   "language": "python",
   "name": "python3"
  },
  "language_info": {
   "codemirror_mode": {
    "name": "ipython",
    "version": 3
   },
   "file_extension": ".py",
   "mimetype": "text/x-python",
   "name": "python",
   "nbconvert_exporter": "python",
   "pygments_lexer": "ipython3",
   "version": "3.8.15"
  },
  "orig_nbformat": 4,
  "vscode": {
   "interpreter": {
    "hash": "e6a3205becee500bed7e889ce43122aaf233800a44ede951c8eaf1c21c9a4d63"
   }
  }
 },
 "nbformat": 4,
 "nbformat_minor": 2
}
