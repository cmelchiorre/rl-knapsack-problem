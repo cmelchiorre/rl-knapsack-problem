{
 "cells": [
  {
   "cell_type": "code",
   "execution_count": 1,
   "metadata": {},
   "outputs": [],
   "source": [
    "from entities import *\n",
    "from parsing import *\n",
    "from environment import *\n",
    "from agent import *\n",
    "\n",
    "from stable_baselines3 import PPO, A2C\n",
    "from stable_baselines3.common.monitor import Monitor\n",
    "from gym.wrappers import TimeLimit\n",
    "\n",
    "from stable_baselines3.common.evaluation import evaluate_policy\n",
    "from stable_baselines3.common.callbacks import CallbackList, EvalCallback, ProgressBarCallback\n",
    "from stable_baselines3.common.callbacks import BaseCallback\n",
    "\n",
    "from matplotlib import pyplot as plt\n",
    "\n",
    "import os\n",
    "import sys\n"
   ]
  },
  {
   "cell_type": "code",
   "execution_count": 2,
   "metadata": {},
   "outputs": [],
   "source": [
    "\n",
    "num_episodes = 1000\n",
    "steps_per_episode = 10000\n",
    "eval_freq = 1000    \n",
    "\n",
    "env = KnapsackEnv()\n",
    "env = TimeLimit(env, max_episode_steps=steps_per_episode) \n",
    "# The TimeLimit wrapper will ensure that each episode in the KnapsackEnv will \n",
    "# be limited to at most max_num_steps steps, even if the environment never \n",
    "# returns done=True.\n",
    "env = Monitor(env, filename=None, allow_early_resets=True)\n",
    "# The Monitor wrapper in OpenAI Gym is used to log various statistics during \n",
    "# training, such as the total reward earned during an episode, the episode \n",
    "# length, and the number of times the agent performed certain actions.\n"
   ]
  },
  {
   "cell_type": "code",
   "execution_count": 14,
   "metadata": {},
   "outputs": [
    {
     "data": {
      "text/plain": [
       "array([731,   0,  45, 355,   0,  88, 768,   0,  46, 743,   0,  43, 680,\n",
       "         0,  91, 847,   0,  60, 830,   0,  57,  54,   0,  40, 581,   0,\n",
       "         2, 811,   0,  21, 521,   0,  57,  85,   0,  20, 170,   0,  24,\n",
       "       439,   0,  88, 195,   0,  86, 266,   0,  95, 341,   0,  -1,  -1,\n",
       "        -1,  -1,  -1,  -1,  -1,  -1,  -1,  -1,  -1,  -1,  -1,  -1,  -1,\n",
       "        -1,  -1,  -1,  -1,  -1,  -1,  -1,  -1,  -1,  -1,  -1,  -1,  -1,\n",
       "        -1,  -1,  -1,  -1,  -1,  -1,  -1,  -1,  -1,  -1,  -1])"
      ]
     },
     "execution_count": 14,
     "metadata": {},
     "output_type": "execute_result"
    }
   ],
   "source": [
    "env.reset()"
   ]
  },
  {
   "cell_type": "code",
   "execution_count": 17,
   "metadata": {},
   "outputs": [
    {
     "name": "stdout",
     "output_type": "stream",
     "text": [
      "[731   0  45 355   0  88 768   0  46 743   0  43 680   0  91 847   0  60\n",
      " 830   0  57  54   0  40 581   0   2 811   0  21 521   0  57  85   0  20\n",
      " 170   0  24 439   0  88 195   0  86 266   0  95 341   0  -1  -1  -1  -1\n",
      "  -1  -1  -1  -1  -1  -1  -1  -1  -1  -1  -1  -1  -1  -1  -1  -1  -1  -1\n",
      "  -1  -1  -1  -1  -1  -1  -1  -1  -1  -1  -1  -1  -1  -1  -1  -1  -1]\n",
      "----------------------------------------------------------------------------------------------------\n",
      "capacity = 731\n",
      "current_pos = 0\n",
      "total value = 0\n",
      "--------\n",
      "[ ] 'mirror w=45 v=355<<<<\n",
      "[ ] 'camping_knife w=88 v=768\n",
      "[ ] 'mug w=46 v=743\n",
      "[ ] 'map w=43 v=680\n",
      "[ ] 'camping_light w=91 v=847\n",
      "[ ] 'bowl w=60 v=830\n",
      "[ ] 'camping_fork w=57 v=54\n",
      "[ ] 'first_aid_kit w=40 v=581\n",
      "[ ] 'flashlight w=2 v=811\n",
      "[ ] 'compass w=21 v=521\n",
      "[ ] 'bug_spray w=57 v=85\n",
      "[ ] 'matches w=20 v=170\n",
      "[ ] 'sleeping_bag w=24 v=439\n",
      "[ ] 'towel w=88 v=195\n",
      "[ ] 'pot w=86 v=266\n",
      "[ ] 'extra_clothes w=95 v=341\n",
      "\n"
     ]
    }
   ],
   "source": [
    "print(env.get_observation())\n",
    "print(env.render(mode='text'))"
   ]
  },
  {
   "cell_type": "code",
   "execution_count": null,
   "metadata": {},
   "outputs": [],
   "source": []
  }
 ],
 "metadata": {
  "kernelspec": {
   "display_name": "deeprl",
   "language": "python",
   "name": "python3"
  },
  "language_info": {
   "codemirror_mode": {
    "name": "ipython",
    "version": 3
   },
   "file_extension": ".py",
   "mimetype": "text/x-python",
   "name": "python",
   "nbconvert_exporter": "python",
   "pygments_lexer": "ipython3",
   "version": "3.8.15"
  },
  "orig_nbformat": 4,
  "vscode": {
   "interpreter": {
    "hash": "e6a3205becee500bed7e889ce43122aaf233800a44ede951c8eaf1c21c9a4d63"
   }
  }
 },
 "nbformat": 4,
 "nbformat_minor": 2
}
