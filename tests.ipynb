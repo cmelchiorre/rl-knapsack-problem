{
 "cells": [
  {
   "cell_type": "code",
   "execution_count": 99,
   "metadata": {},
   "outputs": [
    {
     "name": "stdout",
     "output_type": "stream",
     "text": [
      "it:tokens=[['bananas', 10, 5]]\n",
      "it:tokens=[['apples', 12, 15]]\n",
      "it:tokens=[['gold', 4, 195]]\n",
      "pk: tokens: [100, [<entities.Item object at 0x000001E54847F0D0>, <entities.Item object at 0x000001E54866B880>, <entities.Item object at 0x000001E54866B9A0>]]\n",
      "pk: capacity: 100\n",
      "pk: items: [<entities.Item object at 0x000001E54847F0D0>, <entities.Item object at 0x000001E54866B880>, <entities.Item object at 0x000001E54866B9A0>]\n",
      "pk: knapsack:<entities.Knapsack object at 0x000001E54827CE80>\n",
      "Knapsack( \n",
      "\tcapacity=100, \n",
      "\titems=(\n",
      "\t\t('bananas', w=10, v=5),\n",
      "\t\t('apples', w=12, v=15),\n",
      "\t\t('gold', w=4, v=195)\n",
      "\t)\n",
      ")\n"
     ]
    }
   ],
   "source": [
    "import parsing\n",
    "from parsing import *\n",
    "\n",
    "import importlib\n",
    "importlib.reload(parsing)\n",
    "\n",
    "parser = KnapsackParser()\n",
    "\n",
    "result = parser.from_file(\"data/k01.kps\")\n",
    "print(result.to_repr())"
   ]
  },
  {
   "cell_type": "code",
   "execution_count": 91,
   "metadata": {},
   "outputs": [
    {
     "data": {
      "text/plain": [
       "<entities.Knapsack at 0x1e548475310>"
      ]
     },
     "execution_count": 91,
     "metadata": {},
     "output_type": "execute_result"
    }
   ],
   "source": [
    "result"
   ]
  },
  {
   "cell_type": "code",
   "execution_count": null,
   "metadata": {},
   "outputs": [],
   "source": []
  },
  {
   "cell_type": "code",
   "execution_count": null,
   "metadata": {},
   "outputs": [],
   "source": []
  },
  {
   "cell_type": "code",
   "execution_count": null,
   "metadata": {},
   "outputs": [],
   "source": []
  }
 ],
 "metadata": {
  "kernelspec": {
   "display_name": "deeprl",
   "language": "python",
   "name": "python3"
  },
  "language_info": {
   "codemirror_mode": {
    "name": "ipython",
    "version": 3
   },
   "file_extension": ".py",
   "mimetype": "text/x-python",
   "name": "python",
   "nbconvert_exporter": "python",
   "pygments_lexer": "ipython3",
   "version": "3.8.15"
  },
  "orig_nbformat": 4,
  "vscode": {
   "interpreter": {
    "hash": "e6a3205becee500bed7e889ce43122aaf233800a44ede951c8eaf1c21c9a4d63"
   }
  }
 },
 "nbformat": 4,
 "nbformat_minor": 2
}
