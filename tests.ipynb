{
 "cells": [
  {
   "cell_type": "code",
   "execution_count": 1,
   "metadata": {},
   "outputs": [],
   "source": [
    "from entities import *\n",
    "from parsing import *\n",
    "from environment import *\n",
    "from agent import *\n",
    "\n",
    "from stable_baselines3 import PPO, A2C\n",
    "from stable_baselines3.common.monitor import Monitor\n",
    "from gym.wrappers import TimeLimit\n",
    "\n",
    "from stable_baselines3.common.evaluation import evaluate_policy\n",
    "from stable_baselines3.common.callbacks import CallbackList, EvalCallback, ProgressBarCallback\n",
    "from stable_baselines3.common.callbacks import BaseCallback\n",
    "\n",
    "from matplotlib import pyplot as plt\n",
    "\n",
    "import os\n",
    "import sys\n",
    "\n",
    "\n",
    "num_episodes = 1000\n",
    "steps_per_episode = 2048\n",
    "eval_freq = 2048\n",
    "\n",
    "os.system('cls')\n",
    "\n",
    "# ##############################################################################\n",
    "#\n",
    "# Create the environment\n",
    "#\n",
    "\n",
    "env = KnapsackEnv()\n",
    "env = TimeLimit(env, max_episode_steps=steps_per_episode) \n",
    "env = Monitor(env, filename=None, allow_early_resets=True)"
   ]
  },
  {
   "cell_type": "code",
   "execution_count": 2,
   "metadata": {},
   "outputs": [
    {
     "name": "stdout",
     "output_type": "stream",
     "text": [
      "obs: type=<class 'numpy.ndarray'>, dtype=float64, shape=(89,). obs[0] dtype=float64\n",
      "obs2: type=<class 'numpy.ndarray'>, dtype=float64, shape=(89,), obs2[0] dtype=float64\n"
     ]
    }
   ],
   "source": [
    "obs = env.reset()\n",
    "obs2 = env.observation_space.sample()\n",
    "\n",
    "print(f\"obs: type={type(obs)}, dtype={obs.dtype}, shape={obs.shape}. obs[0] dtype={obs[0].dtype}\")\n",
    "print(f\"obs2: type={type(obs2)}, dtype={obs2.dtype}, shape={obs2.shape}, obs2[0] dtype={obs2[0].dtype}\")\n"
   ]
  },
  {
   "cell_type": "code",
   "execution_count": 3,
   "metadata": {},
   "outputs": [],
   "source": [
    "from stable_baselines3.common.env_checker import check_env\n",
    "\n",
    "check_env(env)"
   ]
  },
  {
   "cell_type": "code",
   "execution_count": null,
   "metadata": {},
   "outputs": [],
   "source": []
  }
 ],
 "metadata": {
  "kernelspec": {
   "display_name": "deeprl",
   "language": "python",
   "name": "python3"
  },
  "language_info": {
   "codemirror_mode": {
    "name": "ipython",
    "version": 3
   },
   "file_extension": ".py",
   "mimetype": "text/x-python",
   "name": "python",
   "nbconvert_exporter": "python",
   "pygments_lexer": "ipython3",
   "version": "3.8.15"
  },
  "orig_nbformat": 4,
  "vscode": {
   "interpreter": {
    "hash": "e6a3205becee500bed7e889ce43122aaf233800a44ede951c8eaf1c21c9a4d63"
   }
  }
 },
 "nbformat": 4,
 "nbformat_minor": 2
}
